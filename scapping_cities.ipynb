{
 "cells": [
  {
   "cell_type": "code",
   "execution_count": 3,
   "metadata": {},
   "outputs": [],
   "source": [
    "import requests\n",
    "from bs4 import BeautifulSoup\n",
    "import pandas as pd"
   ]
  },
  {
   "attachments": {},
   "cell_type": "markdown",
   "metadata": {},
   "source": [
    "\"https://simple.wikipedia.org/wiki/List_of_Premier_League_clubs\"\n",
    "\"https://en.wikipedia.org/wiki/List_of_football_clubs_in_Spain\"\n",
    "\"https://sportsbrief.com/football/36677-a-list-football-clubs-france-year-established-achievements/\"\n",
    "\"https://en.wikipedia.org/wiki/Serie_A\"\n",
    "\"https://en.wikipedia.org/wiki/Bundesliga\"\n",
    "\"https://en.wikipedia.org/wiki/2022%E2%80%9323_Primeira_Liga\"\n",
    "\n"
   ]
  },
  {
   "cell_type": "code",
   "execution_count": 12,
   "metadata": {},
   "outputs": [],
   "source": [
    "url = \"https://simple.wikipedia.org/wiki/List_of_Premier_League_clubs\"\n",
    "\n",
    "r = requests.get(url)\n",
    "soup = BeautifulSoup(r.text, 'html.parser')  # switch to html.parser\n",
    "\n",
    "# Find the first table\n",
    "table = soup.find_all('table')[0]\n",
    "\n",
    "# Convert the HTML table to a string\n",
    "table_str = str(table)\n",
    "\n",
    "# Read the HTML table string into a DataFrame\n",
    "df = pd.read_html(table_str)[0]\n",
    "\n",
    "# Save the DataFrame to a CSV file\n",
    "df.to_csv('premier_league_clubs.csv', index=False)\n"
   ]
  },
  {
   "cell_type": "code",
   "execution_count": 17,
   "metadata": {},
   "outputs": [],
   "source": [
    "url = \"https://en.wikipedia.org/wiki/List_of_football_clubs_in_Spain\"\n",
    "\n",
    "r = requests.get(url)\n",
    "soup = BeautifulSoup(r.text, 'html.parser')  # switch to html.parser\n",
    "\n",
    "# Find the first table\n",
    "table = soup.find_all('table')[0]\n",
    "\n",
    "# Convert the HTML table to a string\n",
    "table_str = str(table)\n",
    "\n",
    "# Read the HTML table string into a DataFrame\n",
    "df = pd.read_html(table_str)[0]\n",
    "\n",
    "# Save the DataFrame to a CSV file\n",
    "df.to_csv('laligua_clubs.csv', index=False)\n"
   ]
  },
  {
   "cell_type": "code",
   "execution_count": 15,
   "metadata": {},
   "outputs": [],
   "source": [
    "url = \"https://sportsbrief.com/football/36677-a-list-football-clubs-france-year-established-achievements/\"\n",
    "\n",
    "response = requests.get(url)\n",
    "soup = BeautifulSoup(response.text, 'html.parser')\n",
    "\n",
    "# Find all h4 tags (these contain the club names)\n",
    "clubs = soup.find_all('h4')\n",
    "\n",
    "data = []\n",
    "\n",
    "for club in clubs:\n",
    "    club_name = club.text.strip()\n",
    "\n",
    "    # Find the ul that directly follows the h4\n",
    "    description_ul = club.find_next_sibling('ul')\n",
    "    details = {}\n",
    "\n",
    "    if description_ul is not None:\n",
    "        # Iterate over the li elements within the ul\n",
    "        for li in description_ul.find_all('li'):\n",
    "            key_value = li.text.split(\":\")\n",
    "            if len(key_value) == 2:\n",
    "                details[key_value[0].strip()] = key_value[1].strip()\n",
    "\n",
    "    details['Club Name'] = club_name\n",
    "    data.append(details)\n",
    "\n",
    "# Create DataFrame\n",
    "df = pd.DataFrame(data)\n",
    "\n",
    "# Save to CSV\n",
    "df.to_csv('ligue1_clubs.csv', index=False)\n"
   ]
  },
  {
   "cell_type": "code",
   "execution_count": 22,
   "metadata": {},
   "outputs": [],
   "source": [
    "url = \"https://en.wikipedia.org/wiki/Serie_A\"\n",
    "\n",
    "r = requests.get(url)\n",
    "soup = BeautifulSoup(r.text, 'html.parser')  # switch to html.parser\n",
    "\n",
    "# Find the first table\n",
    "table = soup.find_all('table')[1]\n",
    "\n",
    "# Convert the HTML table to a string\n",
    "table_str = str(table)\n",
    "\n",
    "# Read the HTML table string into a DataFrame\n",
    "df = pd.read_html(table_str)[0]\n",
    "\n",
    "# Save the DataFrame to a CSV file\n",
    "df.to_csv('seriea_clubs.csv', index=False)\n"
   ]
  },
  {
   "cell_type": "code",
   "execution_count": 21,
   "metadata": {},
   "outputs": [],
   "source": [
    "url = \"https://en.wikipedia.org/wiki/Bundesliga\"\n",
    "\n",
    "r = requests.get(url)\n",
    "soup = BeautifulSoup(r.text, 'html.parser')  # switch to html.parser\n",
    "\n",
    "# Find the first table\n",
    "table = soup.find_all('table')[2]\n",
    "\n",
    "# Convert the HTML table to a string\n",
    "table_str = str(table)\n",
    "\n",
    "# Read the HTML table string into a DataFrame\n",
    "df = pd.read_html(table_str)[0]\n",
    "\n",
    "# Save the DataFrame to a CSV file\n",
    "df.to_csv('bundsliga_clubs.csv', index=False)\n"
   ]
  },
  {
   "cell_type": "code",
   "execution_count": 6,
   "metadata": {},
   "outputs": [],
   "source": [
    "url = \"https://en.wikipedia.org/wiki/2022-23_Primeira_Liga\"\n",
    "r = requests.get(url)\n",
    "soup = BeautifulSoup(r.text, 'html.parser')  # switch to html.parser\n",
    "\n",
    "# Find the first table\n",
    "table = soup.find_all('table')[1]\n",
    "\n",
    "# Convert the HTML table to a string\n",
    "table_str = str(table)\n",
    "\n",
    "# Read the HTML table string into a DataFrame\n",
    "df = pd.read_html(table_str)[0]\n",
    "\n",
    "df.to_csv('primeira_liga_clubs.csv', index=False)\n"
   ]
  },
  {
   "cell_type": "code",
   "execution_count": 8,
   "metadata": {},
   "outputs": [],
   "source": [
    "url = \"https://en.wikipedia.org/wiki/Eredivisie\"\n",
    "r = requests.get(url)\n",
    "soup = BeautifulSoup(r.text, 'html.parser')  # switch to html.parser\n",
    "\n",
    "# Find the first table\n",
    "table = soup.find_all('table')[1]\n",
    "\n",
    "# Convert the HTML table to a string\n",
    "table_str = str(table)\n",
    "\n",
    "# Read the HTML table string into a DataFrame\n",
    "df = pd.read_html(table_str)[0]\n",
    "\n",
    "df.to_csv('eredivisie_clubs.csv', index=False)\n"
   ]
  }
 ],
 "metadata": {
  "kernelspec": {
   "display_name": "Python 3",
   "language": "python",
   "name": "python3"
  },
  "language_info": {
   "codemirror_mode": {
    "name": "ipython",
    "version": 3
   },
   "file_extension": ".py",
   "mimetype": "text/x-python",
   "name": "python",
   "nbconvert_exporter": "python",
   "pygments_lexer": "ipython3",
   "version": "3.10.6"
  },
  "orig_nbformat": 4
 },
 "nbformat": 4,
 "nbformat_minor": 2
}
